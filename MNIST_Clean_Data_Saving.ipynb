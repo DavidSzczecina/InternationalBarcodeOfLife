{
  "nbformat": 4,
  "nbformat_minor": 0,
  "metadata": {
    "colab": {
      "provenance": [],
      "authorship_tag": "ABX9TyPFMGwasBzaqOA7V9whZKzq",
      "include_colab_link": true
    },
    "kernelspec": {
      "name": "python3",
      "display_name": "Python 3"
    },
    "language_info": {
      "name": "python"
    }
  },
  "cells": [
    {
      "cell_type": "markdown",
      "metadata": {
        "id": "view-in-github",
        "colab_type": "text"
      },
      "source": [
        "<a href=\"https://colab.research.google.com/github/DavidSzczecina/InternationalBarcodeOfLife/blob/main/MNIST_Clean_Data_Saving.ipynb\" target=\"_parent\"><img src=\"https://colab.research.google.com/assets/colab-badge.svg\" alt=\"Open In Colab\"/></a>"
      ]
    },
    {
      "cell_type": "markdown",
      "source": [
        "Setup"
      ],
      "metadata": {
        "id": "mikRAbmkql6Q"
      }
    },
    {
      "cell_type": "code",
      "source": [
        "!pip install idx2numpy\n",
        "import idx2numpy\n",
        "from google.colab import files"
      ],
      "metadata": {
        "id": "tUsBUz7spprk"
      },
      "execution_count": null,
      "outputs": []
    },
    {
      "cell_type": "code",
      "execution_count": null,
      "metadata": {
        "id": "WU9i7u8BK8jC"
      },
      "outputs": [],
      "source": [
        "#\n",
        "# This is a sample Notebook to demonstrate how to read \"MNIST Dataset\"\n",
        "#\n",
        "import numpy as np # linear algebra\n",
        "import struct\n",
        "from array import array\n",
        "from os.path  import join\n",
        "\n",
        "#\n",
        "# MNIST Data Loader Class\n",
        "#\n",
        "class MnistDataloader(object):\n",
        "    def __init__(self, training_images_filepath,training_labels_filepath,\n",
        "                 test_images_filepath, test_labels_filepath):\n",
        "        self.training_images_filepath = training_images_filepath\n",
        "        self.training_labels_filepath = training_labels_filepath\n",
        "        self.test_images_filepath = test_images_filepath\n",
        "        self.test_labels_filepath = test_labels_filepath\n",
        "\n",
        "    def read_images_labels(self, images_filepath, labels_filepath):\n",
        "        labels = []\n",
        "        with open(labels_filepath, 'rb') as file:\n",
        "            magic, size = struct.unpack(\">II\", file.read(8))\n",
        "            if magic != 2049:\n",
        "                raise ValueError('Magic number mismatch, expected 2049, got {}'.format(magic))\n",
        "            labels = array(\"B\", file.read())\n",
        "\n",
        "        with open(images_filepath, 'rb') as file:\n",
        "            magic, size, rows, cols = struct.unpack(\">IIII\", file.read(16))\n",
        "            if magic != 2051:\n",
        "                raise ValueError('Magic number mismatch, expected 2051, got {}'.format(magic))\n",
        "            image_data = array(\"B\", file.read())\n",
        "        images = []\n",
        "        for i in range(size):\n",
        "            images.append([0] * rows * cols)\n",
        "        for i in range(size):\n",
        "            img = np.array(image_data[i * rows * cols:(i + 1) * rows * cols])\n",
        "            img = img.reshape(28, 28)\n",
        "            images[i][:] = img\n",
        "\n",
        "        return images, labels\n",
        "\n",
        "    def load_data(self):\n",
        "        x_train, y_train = self.read_images_labels(self.training_images_filepath, self.training_labels_filepath)\n",
        "        x_test, y_test = self.read_images_labels(self.test_images_filepath, self.test_labels_filepath)\n",
        "        return (x_train, y_train),(x_test, y_test)"
      ]
    },
    {
      "cell_type": "code",
      "source": [
        "#\n",
        "# Verify Reading Dataset via MnistDataloader class\n",
        "#\n",
        "%matplotlib inline\n",
        "import random\n",
        "import matplotlib.pyplot as plt\n",
        "\n",
        "#\n",
        "# Set file paths based on added MNIST Datasets\n",
        "#\n",
        "input_path = ''\n",
        "training_images_filepath = join(input_path, '/content/train-images.idx3-ubyte')\n",
        "training_labels_filepath = join(input_path, '/content/train-labels.idx1-ubyte')\n",
        "test_images_filepath = join(input_path, '/content/t10k-images.idx3-ubyte')\n",
        "test_labels_filepath = join(input_path, '/content/t10k-labels.idx1-ubyte')\n",
        "\n",
        "\n",
        "#\n",
        "# Helper function to show a list of images with their relating titles\n",
        "#\n",
        "def show_images(images, title_texts):\n",
        "    cols = 5\n",
        "    rows = int(len(images)/cols) + 1\n",
        "    plt.figure(figsize=(30,20))\n",
        "    index = 1\n",
        "    for x in zip(images, title_texts):\n",
        "        image = x[0]\n",
        "        title_text = x[1]\n",
        "        plt.subplot(rows, cols, index)\n",
        "        plt.imshow(image, cmap=plt.cm.gray)\n",
        "        if (title_text != ''):\n",
        "            plt.title(title_text, fontsize = 15);\n",
        "        index += 1\n",
        "\n",
        "#\n",
        "# Load MINST dataset\n",
        "#\n",
        "mnist_dataloader = MnistDataloader(training_images_filepath, training_labels_filepath, test_images_filepath, test_labels_filepath)\n",
        "(x_train, y_train), (x_test, y_test) = mnist_dataloader.load_data()\n",
        "\n",
        "#\n",
        "# Show some random training and test images\n",
        "#\n",
        "images_2_show = []\n",
        "titles_2_show = []\n",
        "for i in range(0, 10):\n",
        "    r = random.randint(1, 60000)\n",
        "    images_2_show.append(x_train[r])\n",
        "    titles_2_show.append('training image [' + str(r) + '] = ' + str(y_train[r]))\n",
        "\n",
        "for i in range(0, 5):\n",
        "    r = random.randint(1, 10000)\n",
        "    images_2_show.append(x_test[r])\n",
        "    titles_2_show.append('test image [' + str(r) + '] = ' + str(y_test[r]))\n",
        "\n",
        "#show_images(images_2_show, titles_2_show)\n"
      ],
      "metadata": {
        "id": "0jchoirENHaz"
      },
      "execution_count": null,
      "outputs": []
    },
    {
      "cell_type": "markdown",
      "source": [
        "Removing Bad Data\n",
        "mislabeled data is found using the cleanlab code in 'CleanLabMNIST.ipynb'"
      ],
      "metadata": {
        "id": "JWbHLyUGqpd6"
      }
    },
    {
      "cell_type": "code",
      "source": [
        "mislabel_indices = [59915, 24798, 8729, 31134, 19124, 37427, 27522, 26471, 53638, 6848, 2720, 23824, 2676, 20672, 8200, 10852, 63520, 27155, 53216, 56480, 20773, 15434, 49543, 11781, 37834, 25678, 59719, 1244, 14582, 34802, 51944, 30049, 902, 35234, 44848, 12183, 9472, 15842, 61014, 37038, 1604, 66597, 22438, 26560, 39184, 25800, 6448, 28392, 21348, 43454, 33162, 14968, 43658, 55792, 16376, 41538, 54506, 40386, 65955, 31596, 42566, 8268, 31198, 40378, 42472, 1341, 29238, 47264, 34404, 45143, 18704, 49212, 43109, 8904, 20572, 68094, 5554, 28162, 43818, 7080, 44456, 63767, 19244, 36104, 50340, 11702, 46269, 41284, 4334, 51248, 25829, 53623, 69009, 33062, 19360, 12268, 2098, 11210, 41594, 11570, 61299, 35851, 26504, 4502, 61681, 26629, 42941, 26444, 33768, 25015, 13703, 15106, 28422, 47034, 494, 50329, 34058, 60947, 42854, 8104, 4945, 23730, 8966, 56596, 61754, 39863, 44959, 37734, 45427, 40144, 26626, 12372, 12559, 12679, 29991, 26748, 13082, 43208, 21576, 30968, 11104, 25716, 41998, 19365, 10277, 17551, 5216, 47094]\n",
        "mislabel_indices.sort(reverse=True)\n",
        "print(mislabel_indices)\n",
        "sorted_errors_train = [59915, 59719, 56596, 56480, 55792, 54506, 53638, 53623, 53216, 51944, 51248, 50340, 50329, 49543, 49212, 47264, 47094, 47034, 46269, 45427, 45143, 44959, 44848, 44456, 43818, 43658, 43454, 43208, 43109, 42941, 42854, 42566, 42472, 41998, 41594, 41538, 41284, 40386, 40378, 40144, 39863, 39184, 37834, 37734, 37427, 37038, 36104, 35851, 35234, 34802, 34404, 34058, 33768, 33162, 33062, 31596, 31198, 31134, 30968, 30049, 29991, 29238, 28422, 28392, 28162, 27522, 27155, 26748, 26629, 26626, 26560, 26504, 26471, 26444, 25829, 25800, 25716, 25678, 25015, 24798, 23824, 23730, 22438, 21576, 21348, 20773, 20672, 20572, 19365, 19360, 19244, 19124, 18704, 17551, 16376, 15842, 15434, 15106, 14968, 14582, 13703, 13082, 12679, 12559, 12372, 12268, 12183, 11781, 11702, 11570, 11210, 11104, 10852, 10277, 9472, 8966, 8904, 8729, 8268, 8200, 8104, 7080, 6848, 6448, 5554, 5216, 4945, 4502, 4334, 2720, 2676, 2098, 1604, 1341, 1244, 902, 494]\n",
        "sorted_errors_test = [9009, 8094, 6597, 5955, 3767, 3520, 1754, 1681, 1299, 1014, 947]"
      ],
      "metadata": {
        "colab": {
          "base_uri": "https://localhost:8080/"
        },
        "id": "yRRrWt77dUll",
        "outputId": "9fd26e4c-3b2e-44fc-b16f-31a5e180d020"
      },
      "execution_count": null,
      "outputs": [
        {
          "output_type": "stream",
          "name": "stdout",
          "text": [
            "[69009, 68094, 66597, 65955, 63767, 63520, 61754, 61681, 61299, 61014, 60947, 59915, 59719, 56596, 56480, 55792, 54506, 53638, 53623, 53216, 51944, 51248, 50340, 50329, 49543, 49212, 47264, 47094, 47034, 46269, 45427, 45143, 44959, 44848, 44456, 43818, 43658, 43454, 43208, 43109, 42941, 42854, 42566, 42472, 41998, 41594, 41538, 41284, 40386, 40378, 40144, 39863, 39184, 37834, 37734, 37427, 37038, 36104, 35851, 35234, 34802, 34404, 34058, 33768, 33162, 33062, 31596, 31198, 31134, 30968, 30049, 29991, 29238, 28422, 28392, 28162, 27522, 27155, 26748, 26629, 26626, 26560, 26504, 26471, 26444, 25829, 25800, 25716, 25678, 25015, 24798, 23824, 23730, 22438, 21576, 21348, 20773, 20672, 20572, 19365, 19360, 19244, 19124, 18704, 17551, 16376, 15842, 15434, 15106, 14968, 14582, 13703, 13082, 12679, 12559, 12372, 12268, 12183, 11781, 11702, 11570, 11210, 11104, 10852, 10277, 9472, 8966, 8904, 8729, 8268, 8200, 8104, 7080, 6848, 6448, 5554, 5216, 4945, 4502, 4334, 2720, 2676, 2098, 1604, 1341, 1244, 902, 494]\n"
          ]
        }
      ]
    },
    {
      "cell_type": "code",
      "source": [
        "#Removing error data images\n",
        "clean_x_train = np.delete(x_train, sorted_errors_train, axis=0)\n",
        "clean_y_train = np.delete(y_train, sorted_errors_train, axis=0)\n",
        "clean_x_test = np.delete(x_test, sorted_errors_test, axis=0)\n",
        "clean_y_test = np.delete(y_test, sorted_errors_test, axis=0)"
      ],
      "metadata": {
        "id": "OkbfUiYwk527"
      },
      "execution_count": null,
      "outputs": []
    },
    {
      "cell_type": "code",
      "source": [
        "#convert dataset to .idx1 file\n",
        "idx2numpy.convert_to_file('clean_x_train.idx1-ubyte', clean_x_train)\n",
        "idx2numpy.convert_to_file('clean_y_train.idx1-ubyte', clean_y_train)\n",
        "idx2numpy.convert_to_file('clean_x_test.idx1-ubyte', clean_x_test)\n",
        "idx2numpy.convert_to_file('clean_y_test.idx1-ubyte', clean_y_test)\n",
        "\n",
        "# Download the updated files\n",
        "files.download('clean_x_train.idx1-ubyte')\n",
        "files.download('clean_y_train.idx1-ubyte')\n",
        "files.download('clean_x_test.idx1-ubyte')\n",
        "files.download('clean_y_test.idx1-ubyte')"
      ],
      "metadata": {
        "colab": {
          "base_uri": "https://localhost:8080/",
          "height": 17
        },
        "id": "gb2uKsVFpzz7",
        "outputId": "acd876d0-0a9c-4ae3-95f9-615f4e629bf2"
      },
      "execution_count": null,
      "outputs": [
        {
          "output_type": "display_data",
          "data": {
            "text/plain": [
              "<IPython.core.display.Javascript object>"
            ],
            "application/javascript": [
              "\n",
              "    async function download(id, filename, size) {\n",
              "      if (!google.colab.kernel.accessAllowed) {\n",
              "        return;\n",
              "      }\n",
              "      const div = document.createElement('div');\n",
              "      const label = document.createElement('label');\n",
              "      label.textContent = `Downloading \"${filename}\": `;\n",
              "      div.appendChild(label);\n",
              "      const progress = document.createElement('progress');\n",
              "      progress.max = size;\n",
              "      div.appendChild(progress);\n",
              "      document.body.appendChild(div);\n",
              "\n",
              "      const buffers = [];\n",
              "      let downloaded = 0;\n",
              "\n",
              "      const channel = await google.colab.kernel.comms.open(id);\n",
              "      // Send a message to notify the kernel that we're ready.\n",
              "      channel.send({})\n",
              "\n",
              "      for await (const message of channel.messages) {\n",
              "        // Send a message to notify the kernel that we're ready.\n",
              "        channel.send({})\n",
              "        if (message.buffers) {\n",
              "          for (const buffer of message.buffers) {\n",
              "            buffers.push(buffer);\n",
              "            downloaded += buffer.byteLength;\n",
              "            progress.value = downloaded;\n",
              "          }\n",
              "        }\n",
              "      }\n",
              "      const blob = new Blob(buffers, {type: 'application/binary'});\n",
              "      const a = document.createElement('a');\n",
              "      a.href = window.URL.createObjectURL(blob);\n",
              "      a.download = filename;\n",
              "      div.appendChild(a);\n",
              "      a.click();\n",
              "      div.remove();\n",
              "    }\n",
              "  "
            ]
          },
          "metadata": {}
        },
        {
          "output_type": "display_data",
          "data": {
            "text/plain": [
              "<IPython.core.display.Javascript object>"
            ],
            "application/javascript": [
              "download(\"download_0880133f-10f4-49df-ae3f-44ce22350e41\", \"clean_x_train.idx1-ubyte\", 46932608)"
            ]
          },
          "metadata": {}
        },
        {
          "output_type": "display_data",
          "data": {
            "text/plain": [
              "<IPython.core.display.Javascript object>"
            ],
            "application/javascript": [
              "\n",
              "    async function download(id, filename, size) {\n",
              "      if (!google.colab.kernel.accessAllowed) {\n",
              "        return;\n",
              "      }\n",
              "      const div = document.createElement('div');\n",
              "      const label = document.createElement('label');\n",
              "      label.textContent = `Downloading \"${filename}\": `;\n",
              "      div.appendChild(label);\n",
              "      const progress = document.createElement('progress');\n",
              "      progress.max = size;\n",
              "      div.appendChild(progress);\n",
              "      document.body.appendChild(div);\n",
              "\n",
              "      const buffers = [];\n",
              "      let downloaded = 0;\n",
              "\n",
              "      const channel = await google.colab.kernel.comms.open(id);\n",
              "      // Send a message to notify the kernel that we're ready.\n",
              "      channel.send({})\n",
              "\n",
              "      for await (const message of channel.messages) {\n",
              "        // Send a message to notify the kernel that we're ready.\n",
              "        channel.send({})\n",
              "        if (message.buffers) {\n",
              "          for (const buffer of message.buffers) {\n",
              "            buffers.push(buffer);\n",
              "            downloaded += buffer.byteLength;\n",
              "            progress.value = downloaded;\n",
              "          }\n",
              "        }\n",
              "      }\n",
              "      const blob = new Blob(buffers, {type: 'application/binary'});\n",
              "      const a = document.createElement('a');\n",
              "      a.href = window.URL.createObjectURL(blob);\n",
              "      a.download = filename;\n",
              "      div.appendChild(a);\n",
              "      a.click();\n",
              "      div.remove();\n",
              "    }\n",
              "  "
            ]
          },
          "metadata": {}
        },
        {
          "output_type": "display_data",
          "data": {
            "text/plain": [
              "<IPython.core.display.Javascript object>"
            ],
            "application/javascript": [
              "download(\"download_912a4c09-3d23-4578-8ebf-3d31ed3ce121\", \"clean_y_train.idx1-ubyte\", 59871)"
            ]
          },
          "metadata": {}
        },
        {
          "output_type": "display_data",
          "data": {
            "text/plain": [
              "<IPython.core.display.Javascript object>"
            ],
            "application/javascript": [
              "\n",
              "    async function download(id, filename, size) {\n",
              "      if (!google.colab.kernel.accessAllowed) {\n",
              "        return;\n",
              "      }\n",
              "      const div = document.createElement('div');\n",
              "      const label = document.createElement('label');\n",
              "      label.textContent = `Downloading \"${filename}\": `;\n",
              "      div.appendChild(label);\n",
              "      const progress = document.createElement('progress');\n",
              "      progress.max = size;\n",
              "      div.appendChild(progress);\n",
              "      document.body.appendChild(div);\n",
              "\n",
              "      const buffers = [];\n",
              "      let downloaded = 0;\n",
              "\n",
              "      const channel = await google.colab.kernel.comms.open(id);\n",
              "      // Send a message to notify the kernel that we're ready.\n",
              "      channel.send({})\n",
              "\n",
              "      for await (const message of channel.messages) {\n",
              "        // Send a message to notify the kernel that we're ready.\n",
              "        channel.send({})\n",
              "        if (message.buffers) {\n",
              "          for (const buffer of message.buffers) {\n",
              "            buffers.push(buffer);\n",
              "            downloaded += buffer.byteLength;\n",
              "            progress.value = downloaded;\n",
              "          }\n",
              "        }\n",
              "      }\n",
              "      const blob = new Blob(buffers, {type: 'application/binary'});\n",
              "      const a = document.createElement('a');\n",
              "      a.href = window.URL.createObjectURL(blob);\n",
              "      a.download = filename;\n",
              "      div.appendChild(a);\n",
              "      a.click();\n",
              "      div.remove();\n",
              "    }\n",
              "  "
            ]
          },
          "metadata": {}
        },
        {
          "output_type": "display_data",
          "data": {
            "text/plain": [
              "<IPython.core.display.Javascript object>"
            ],
            "application/javascript": [
              "download(\"download_7733d82c-ec20-4774-93ed-0fc7b24a3d5f\", \"clean_x_test.idx1-ubyte\", 7831392)"
            ]
          },
          "metadata": {}
        },
        {
          "output_type": "display_data",
          "data": {
            "text/plain": [
              "<IPython.core.display.Javascript object>"
            ],
            "application/javascript": [
              "\n",
              "    async function download(id, filename, size) {\n",
              "      if (!google.colab.kernel.accessAllowed) {\n",
              "        return;\n",
              "      }\n",
              "      const div = document.createElement('div');\n",
              "      const label = document.createElement('label');\n",
              "      label.textContent = `Downloading \"${filename}\": `;\n",
              "      div.appendChild(label);\n",
              "      const progress = document.createElement('progress');\n",
              "      progress.max = size;\n",
              "      div.appendChild(progress);\n",
              "      document.body.appendChild(div);\n",
              "\n",
              "      const buffers = [];\n",
              "      let downloaded = 0;\n",
              "\n",
              "      const channel = await google.colab.kernel.comms.open(id);\n",
              "      // Send a message to notify the kernel that we're ready.\n",
              "      channel.send({})\n",
              "\n",
              "      for await (const message of channel.messages) {\n",
              "        // Send a message to notify the kernel that we're ready.\n",
              "        channel.send({})\n",
              "        if (message.buffers) {\n",
              "          for (const buffer of message.buffers) {\n",
              "            buffers.push(buffer);\n",
              "            downloaded += buffer.byteLength;\n",
              "            progress.value = downloaded;\n",
              "          }\n",
              "        }\n",
              "      }\n",
              "      const blob = new Blob(buffers, {type: 'application/binary'});\n",
              "      const a = document.createElement('a');\n",
              "      a.href = window.URL.createObjectURL(blob);\n",
              "      a.download = filename;\n",
              "      div.appendChild(a);\n",
              "      a.click();\n",
              "      div.remove();\n",
              "    }\n",
              "  "
            ]
          },
          "metadata": {}
        },
        {
          "output_type": "display_data",
          "data": {
            "text/plain": [
              "<IPython.core.display.Javascript object>"
            ],
            "application/javascript": [
              "download(\"download_f479f937-768e-4ddd-8863-427b032db82e\", \"clean_y_test.idx1-ubyte\", 9997)"
            ]
          },
          "metadata": {}
        }
      ]
    },
    {
      "cell_type": "code",
      "source": [
        "#display error data in test dataset\n",
        "images_2_show2 = []\n",
        "titles_2_show2 = []\n",
        "errors = [947, 1014, 1299, 1681, 1754, 3520, 3767, 5955, 6597, 8094, 9009]\n",
        "for i in errors:\n",
        "    r = i\n",
        "    images_2_show2.append(x_test[r])\n",
        "    titles_2_show2.append('training image [' + str(r) + '] = ' + str(y_test[r]))\n",
        "show_images(images_2_show2, titles_2_show2)"
      ],
      "metadata": {
        "id": "nBH69MnkeGcc"
      },
      "execution_count": null,
      "outputs": []
    },
    {
      "cell_type": "code",
      "source": [
        "\n",
        "#sample to see erroneos image\n",
        "images_2_show2 = []\n",
        "titles_2_show2 = []\n",
        "errors = [493,494,495]\n",
        "for i in errors:\n",
        "    r = i\n",
        "    images_2_show2.append(x_train[r])\n",
        "    titles_2_show2.append('training image [' + str(r) + '] = ' + str(y_train[r]))\n",
        "show_images(images_2_show2, titles_2_show2)\n",
        "\n",
        "#sample to see image gone\n",
        "images_2_show3 = []\n",
        "titles_2_show3 = []\n",
        "mislabel_indices = [494]\n",
        "for i in errors:\n",
        "    r = i\n",
        "    images_2_show3.append(clean_x_train[r])\n",
        "    titles_2_show3.append('training image [' + str(r) + '] = ' + str(clean_y_train[r]))\n",
        "show_images(images_2_show3, titles_2_show3)"
      ],
      "metadata": {
        "id": "pBCUu2M2bDaD"
      },
      "execution_count": null,
      "outputs": []
    }
  ]
}